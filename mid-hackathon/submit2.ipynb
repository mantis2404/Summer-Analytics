{
 "cells": [
  {
   "cell_type": "code",
   "execution_count": 1,
   "id": "83c1b193",
   "metadata": {},
   "outputs": [],
   "source": [
    "import pandas as pd\n",
    "import numpy as np\n",
    "import seaborn as sns \n",
    "import matplotlib.pyplot as plt\n",
    "from sklearn.linear_model import LogisticRegression\n",
    "from sklearn.metrics import accuracy_score\n",
    "from sklearn.preprocessing import LabelEncoder, OneHotEncoder\n",
    "from sklearn.model_selection import cross_val_score, StratifiedKFold,GridSearchCV\n",
    "from sklearn.metrics import classification_report\n",
    "from sklearn.metrics import confusion_matrix\n",
    "from sklearn.feature_selection import RFE\n",
    "from sklearn.impute import MissingIndicator\n",
    "from sklearn.experimental import enable_iterative_imputer\n",
    "from sklearn.impute import KNNImputer\n",
    "from sklearn.impute import IterativeImputer\n",
    "from sklearn.preprocessing import PowerTransformer,StandardScaler"
   ]
  },
  {
   "cell_type": "code",
   "execution_count": 2,
   "id": "ba692119",
   "metadata": {},
   "outputs": [],
   "source": [
    "df=pd.read_csv('hacktrain.csv')\n",
    "df_test= pd.read_csv('hacktest.csv')"
   ]
  },
  {
   "cell_type": "code",
   "execution_count": 3,
   "id": "696b9011",
   "metadata": {},
   "outputs": [],
   "source": [
    "target_col=df['class']\n",
    "feature_cols=df.drop(['class','ID','Unnamed: 0'],axis=1)\n",
    "feature_cols.fillna(np.nan, inplace=True)"
   ]
  },
  {
   "cell_type": "code",
   "execution_count": 4,
   "id": "051b266b",
   "metadata": {},
   "outputs": [],
   "source": [
    "knn_imputer = KNNImputer(n_neighbors=5)\n",
    "X = knn_imputer.fit_transform(feature_cols)\n",
    "original_cols = feature_cols.columns.tolist()\n",
    "X = pd.DataFrame(X, columns=original_cols)\n",
    "ndvi_cols = [col for col in X.columns if not '_missing' in col]"
   ]
  },
  {
   "cell_type": "code",
   "execution_count": 5,
   "id": "b24d9f3e",
   "metadata": {},
   "outputs": [],
   "source": [
    "scaler = StandardScaler()\n",
    "X[ndvi_cols] = scaler.fit_transform(X[ndvi_cols])"
   ]
  },
  {
   "cell_type": "code",
   "execution_count": 6,
   "id": "07415eef",
   "metadata": {},
   "outputs": [],
   "source": [
    "first_quarter15=X.loc[:, ['20150330_N','20150314_N','20150226_N','20150210_N','20150125_N','20150109_N']]\n",
    "first_quarter14=X.loc[:, ['20140322_N','20140218_N','20140202_N','20140117_N','20140101_N']]\n",
    "second_quarter15=X.loc[:, ['20150602_N','20150517_N','20150501_N','20150415_N']]\n",
    "second_quarter14=X.loc[:, ['20140626_N','20140610_N','20140525_N','20140509_N','20140423_N','20140407_N']]\n",
    "third_quarter15=X.loc[:, ['20150720_N']]\n",
    "third_quarter14=X.loc[:, ['20140930_N','20140813_N']]\n",
    "fourth_quarter14=X.loc[:, ['20141117_N','20141101_N','20141016_N']]\n",
    "X['ndvi_std'] = X[ndvi_cols].std(axis=1)\n",
    "X['ndvi_min'] = X[ndvi_cols].min(axis=1)\n",
    "X['ndvi_max'] = X[ndvi_cols].max(axis=1)\n",
    "X['skew']= X[ndvi_cols].skew(axis=1)\n",
    "X['kurtosis'] = X[ndvi_cols].kurtosis(axis=1)\n",
    "X['first_quarter15_mean'] = first_quarter15.mean(axis=1)\n",
    "X['first_quarter14_mean'] = first_quarter14.mean(axis=1)\n",
    "X['second_quarter15_mean'] = second_quarter15.mean(axis=1)\n",
    "X['fourth_quarter14_mean'] = fourth_quarter14.mean(axis=1)\n",
    "X['range']=X[ndvi_cols].max(axis=1) - X[ndvi_cols].min(axis=1)"
   ]
  },
  {
   "cell_type": "code",
   "execution_count": 7,
   "id": "e29793ae",
   "metadata": {},
   "outputs": [],
   "source": [
    "X_train = X\n",
    "y_train = target_col\n",
    "\n",
    "X_test= df_test.drop(['ID','Unnamed: 0'],axis=1)\n",
    "# X_test = itr_imputer.transform(X_test)\n",
    "X_test = knn_imputer.transform(X_test)\n",
    "original_cols = feature_cols.columns.tolist()\n",
    "\n",
    "X_test = pd.DataFrame(X_test, columns=original_cols)\n",
    "X_test[ndvi_cols] = scaler.transform(X_test[ndvi_cols])\n",
    "\n",
    "X_test['ndvi_std'] = X_test[ndvi_cols].std(axis=1)\n",
    "X_test['ndvi_min'] = X_test[ndvi_cols].min(axis=1)\n",
    "X_test['ndvi_max'] = X_test[ndvi_cols].max(axis=1)\n",
    "first_quarter15=X_test.loc[:, ['20150330_N','20150314_N','20150226_N','20150210_N','20150125_N','20150109_N']]\n",
    "first_quarter14=X_test.loc[:, ['20140322_N','20140218_N','20140202_N','20140117_N','20140101_N']]\n",
    "second_quarter15=X_test.loc[:, ['20150602_N','20150517_N','20150501_N','20150415_N']]\n",
    "second_quarter14=X_test.loc[:, ['20140626_N','20140610_N','20140525_N','20140509_N','20140423_N','20140407_N']]\n",
    "third_quarter15=X_test.loc[:, ['20150720_N']]\n",
    "third_quarter14=X_test.loc[:, ['20140930_N','20140813_N']]\n",
    "fourth_quarter14=X_test.loc[:, ['20141117_N','20141101_N','20141016_N']]\n",
    "\n",
    "X_test['skew']= X_test[ndvi_cols].skew(axis=1)\n",
    "X_test['kurtosis'] = X_test[ndvi_cols].kurtosis(axis=1)\n",
    "X_test['first_quarter15_mean'] = first_quarter15.mean(axis=1)\n",
    "X_test['first_quarter14_mean'] = first_quarter14.mean(axis=1)\n",
    "X_test['second_quarter15_mean'] = second_quarter15.mean(axis=1)\n",
    "X_test['fourth_quarter14_mean'] = fourth_quarter14.mean(axis=1)\n",
    "X_test['range']=X_test[ndvi_cols].max(axis=1) - X_test[ndvi_cols].min(axis=1)"
   ]
  },
  {
   "cell_type": "code",
   "execution_count": 8,
   "id": "f307ae04",
   "metadata": {},
   "outputs": [
    {
     "name": "stdout",
     "output_type": "stream",
     "text": [
      "Cross-validation scores: [0.9225   0.915    0.91     0.920625 0.918125]\n",
      "Average CV score: 0.92 (+/- 0.01)\n"
     ]
    }
   ],
   "source": [
    "model = LogisticRegression(max_iter=5000,penalty='l1',C=0.1,solver='saga')\n",
    "\n",
    "cv = StratifiedKFold(n_splits=5, shuffle=True, random_state=42)\n",
    "cv_scores = cross_val_score(model, X_train, y_train, cv=cv, scoring='accuracy')\n",
    "\n",
    "print(\"Cross-validation scores:\", cv_scores)\n",
    "print(f\"Average CV score: {cv_scores.mean():.2f} (+/- {cv_scores.std() * 2:.2f})\")"
   ]
  },
  {
   "cell_type": "code",
   "execution_count": 9,
   "id": "308c5c04",
   "metadata": {},
   "outputs": [],
   "source": [
    "model.fit(X_train, y_train)\n",
    "df_test['class'] = model.predict(X_test)"
   ]
  },
  {
   "cell_type": "code",
   "execution_count": 10,
   "id": "1238e3ec",
   "metadata": {},
   "outputs": [],
   "source": [
    "submission = df_test[['ID', 'class']]\n",
    "submission.to_csv('submit7.csv', index=False)"
   ]
  }
 ],
 "metadata": {
  "kernelspec": {
   "display_name": "Python 3",
   "language": "python",
   "name": "python3"
  },
  "language_info": {
   "codemirror_mode": {
    "name": "ipython",
    "version": 3
   },
   "file_extension": ".py",
   "mimetype": "text/x-python",
   "name": "python",
   "nbconvert_exporter": "python",
   "pygments_lexer": "ipython3",
   "version": "3.12.3"
  }
 },
 "nbformat": 4,
 "nbformat_minor": 5
}
